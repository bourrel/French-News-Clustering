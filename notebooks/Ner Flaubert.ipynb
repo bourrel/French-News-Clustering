{
 "cells": [
  {
   "cell_type": "code",
   "execution_count": 1,
   "metadata": {},
   "outputs": [],
   "source": [
    "%run ../flaubert_token_classification.py\n",
    "%run ../tools/utils_ner.py"
   ]
  },
  {
   "cell_type": "code",
   "execution_count": 2,
   "metadata": {},
   "outputs": [],
   "source": [
    "import datetime\n",
    "import math\n",
    "import os\n",
    "\n",
    "import matplotlib.pyplot as plt\n",
    "import itertools\n",
    "import numpy as np\n",
    "import tensorflow as tf\n",
    "from seqeval import metrics\n",
    "from transformers import (\n",
    "    TF2_WEIGHTS_NAME,\n",
    "    FlaubertConfig,\n",
    "    FlaubertTokenizer,\n",
    "    GradientAccumulator,\n",
    "    create_optimizer\n",
    ")"
   ]
  },
  {
   "cell_type": "markdown",
   "metadata": {},
   "source": [
    "# Parameters"
   ]
  },
  {
   "cell_type": "code",
   "execution_count": 3,
   "metadata": {},
   "outputs": [],
   "source": [
    "ROOT_FOLDER = os.path.abspath(os.path.join(os.getcwd(), os.pardir)) + \"/\""
   ]
  },
  {
   "cell_type": "code",
   "execution_count": 4,
   "metadata": {},
   "outputs": [],
   "source": [
    "## Model parameters\n",
    "\n",
    "MODEL_PATH = ROOT_FOLDER + \"models/ner/\"\n",
    "LOG_PATH = ROOT_FOLDER + \"logs/ner/\"\n",
    "\n",
    "model_name=\"jplu/tf-flaubert-base-cased\"\n",
    "\n",
    "max_seq_length=64\n",
    "batch_size=64\n",
    "epochs=3\n",
    "learning_rate=5e-5\n",
    "max_grad_norm=1.0\n",
    "warmup_steps=0\n",
    "pad_token_label_id = -1"
   ]
  },
  {
   "cell_type": "code",
   "execution_count": 5,
   "metadata": {},
   "outputs": [],
   "source": [
    "## Dataset parameters\n",
    "\n",
    "DATASET_PATH = ROOT_FOLDER + \"dataset/wikiNer/\"\n",
    "LABEL_PATH = DATASET_PATH + \"labels.txt\"\n",
    "\n",
    "labels, num_labels = get_labels(LABEL_PATH)"
   ]
  },
  {
   "cell_type": "code",
   "execution_count": 6,
   "metadata": {},
   "outputs": [],
   "source": [
    "## Random parameters\n",
    "\n",
    "save_steps=1500\n",
    "logging_steps=100\n",
    "seed=42\n",
    "no_cuda=False"
   ]
  },
  {
   "cell_type": "markdown",
   "metadata": {},
   "source": [
    "# Import dataset"
   ]
  },
  {
   "cell_type": "code",
   "execution_count": 7,
   "metadata": {},
   "outputs": [],
   "source": [
    "def load_and_cache_examples(tokenizer, labels, pad_token_label_id, mode):\n",
    "    # Load data features from cache or dataset file\n",
    "    cached_features_file = os.path.join(\n",
    "        DATASET_PATH,\n",
    "        \"cached_{}_{}_{}.tf_record\".format(\n",
    "            mode, list(filter(None, model_name.split(\"/\"))).pop(), str(max_seq_length)\n",
    "        ),\n",
    "    )\n",
    "    if os.path.exists(cached_features_file):\n",
    "        logging.info(\"Loading features from cached file %s\", cached_features_file)\n",
    "        dataset, size = load_cache(cached_features_file, max_seq_length)\n",
    "    else:\n",
    "        print(\"Creating features from dataset file at\", DATASET_PATH)\n",
    "        examples = read_examples_from_file(DATASET_PATH, mode)\n",
    "        features = convert_examples_to_features(\n",
    "            examples,\n",
    "            labels,\n",
    "            max_seq_length,\n",
    "            tokenizer,\n",
    "            cls_token_at_end=False,\n",
    "            # xlnet has a cls token at the end\n",
    "            cls_token=tokenizer.cls_token,\n",
    "            cls_token_segment_id=0,\n",
    "            sep_token=tokenizer.sep_token,\n",
    "            sep_token_extra=False, # roberta uses an extra separator b/w pairs of sentences, cf. github.com/pytorch/fairseq/commit/1684e166e3da03f5b600dbb7855cb98ddfcd0805\n",
    "            pad_on_left=False, # pad on the left for xlnet\n",
    "            pad_token=tokenizer.convert_tokens_to_ids([tokenizer.pad_token])[0],\n",
    "            pad_token_segment_id=0,\n",
    "            pad_token_label_id=pad_token_label_id,\n",
    "        )\n",
    "\n",
    "        save_cache(features, cached_features_file)\n",
    "        dataset, size = load_cache(cached_features_file, max_seq_length)\n",
    "\n",
    "    if mode == \"train\":\n",
    "        dataset = dataset.repeat()\n",
    "        dataset = dataset.shuffle(buffer_size=8192, seed=seed)\n",
    "\n",
    "    dataset = dataset.batch(batch_size, True)\n",
    "    dataset = dataset.prefetch(buffer_size=batch_size)\n",
    "\n",
    "    return dataset, size"
   ]
  },
  {
   "cell_type": "markdown",
   "metadata": {},
   "source": [
    "# Training"
   ]
  },
  {
   "cell_type": "code",
   "execution_count": 8,
   "metadata": {},
   "outputs": [],
   "source": [
    "def train(strategy, train_dataset, tokenizer, model, num_train_examples, labels, pad_token_label_id):\n",
    "    num_train_steps = math.ceil(num_train_examples / batch_size) // epochs\n",
    "\n",
    "    writer = tf.summary.create_file_writer(\"/tmp/mylogs\")\n",
    "\n",
    "    with strategy.scope():\n",
    "        loss_fct = tf.keras.losses.SparseCategoricalCrossentropy(from_logits=True, reduction=tf.keras.losses.Reduction.NONE)\n",
    "        optimizer = create_optimizer(learning_rate, num_train_steps, warmup_steps)\n",
    "        loss_metric = tf.keras.metrics.Mean(name=\"loss\", dtype=tf.float32)\n",
    "        gradient_accumulator = GradientAccumulator()\n",
    "\n",
    "    model.summary()\n",
    "\n",
    "    @tf.function\n",
    "    def apply_gradients():\n",
    "        grads_and_vars = []\n",
    "\n",
    "        for gradient, variable in zip(gradient_accumulator.gradients, model.trainable_variables):\n",
    "            if gradient is not None:\n",
    "                grads_and_vars.append((gradient, variable))\n",
    "            else:\n",
    "                grads_and_vars.append((gradient, variable))\n",
    "\n",
    "        optimizer.apply_gradients(grads_and_vars, max_grad_norm)\n",
    "        gradient_accumulator.reset()\n",
    "\n",
    "    @tf.function\n",
    "    def train_step(train_features, train_labels):\n",
    "        def step_fn(train_features, train_labels):\n",
    "            inputs = {\n",
    "                \"attention_mask\": train_features[\"input_mask\"],\n",
    "                \"token_type_ids\": train_features[\"segment_ids\"],\n",
    "                \"training\": True\n",
    "            }\n",
    "\n",
    "            with tf.GradientTape() as tape:\n",
    "                logits = model(train_features[\"input_ids\"], **inputs)[0]\n",
    "                active_loss = tf.reshape(train_labels, (-1,)) != pad_token_label_id\n",
    "                active_logits = tf.boolean_mask(tf.reshape(logits, (-1, len(labels))), active_loss)\n",
    "                active_labels = tf.boolean_mask(tf.reshape(train_labels, (-1,)), active_loss)\n",
    "                cross_entropy = loss_fct(active_labels, active_logits)\n",
    "                loss = tf.reduce_sum(cross_entropy) * (1.0 / batch_size)\n",
    "                grads = tape.gradient(loss, model.trainable_variables)\n",
    "\n",
    "                gradient_accumulator(grads)\n",
    "\n",
    "            return cross_entropy\n",
    "\n",
    "        per_example_losses = strategy.experimental_run_v2(step_fn, args=(train_features, train_labels))\n",
    "        mean_loss = strategy.reduce(tf.distribute.ReduceOp.MEAN, per_example_losses, axis=0)\n",
    "\n",
    "        return mean_loss\n",
    "\n",
    "    current_time = datetime.datetime.now()\n",
    "    global_step = 0\n",
    "    logging_loss = 0.0\n",
    "\n",
    "    for _ in range(epochs):\n",
    "        step = 1\n",
    "\n",
    "        with strategy.scope():\n",
    "            for train_features, train_labels in train_dataset:\n",
    "                loss = train_step(train_features, train_labels)\n",
    "                strategy.experimental_run_v2(apply_gradients)\n",
    "                loss_metric(loss)\n",
    "                global_step += 1\n",
    "\n",
    "                # Log metrics\n",
    "                if logging_steps > 0 and global_step % logging_steps == 0:\n",
    "                    lr = optimizer.learning_rate\n",
    "                    learning_rate_step = lr(step)\n",
    "\n",
    "                    with writer.as_default():\n",
    "                        tf.summary.scalar(\"lr\", learning_rate_step, global_step)\n",
    "                        tf.summary.scalar(\"loss\", (loss_metric.result() - logging_loss) / logging_steps, global_step)\n",
    "\n",
    "                    logging_loss = loss_metric.result()\n",
    "\n",
    "                with writer.as_default():\n",
    "                    tf.summary.scalar(\"loss\", loss_metric.result(), step=step)\n",
    "\n",
    "                # Save model checkpoint\n",
    "                if save_steps > 0 and global_step % save_steps == 0:\n",
    "                    checkpoint_output_dir = os.path.join(MODEL_PATH, \"checkpoint-{}\".format(global_step))\n",
    "\n",
    "                    if not os.path.exists(checkpoint_output_dir):\n",
    "                        os.makedirs(checkpoint_output_dir)\n",
    "\n",
    "                    model.save_pretrained(checkpoint_output_dir)\n",
    "                    print(\"Saving model checkpoint to\", checkpoint_output_dir)\n",
    "\n",
    "                step += 1\n",
    "\n",
    "            loss_metric.reset_states()\n",
    "\n",
    "    print(\"  Training took time = {}\".format(datetime.datetime.now() - current_time))"
   ]
  },
  {
   "cell_type": "code",
   "execution_count": 9,
   "metadata": {},
   "outputs": [],
   "source": [
    "strategy = tf.distribute.OneDeviceStrategy(device=\"/gpu:0\")\n",
    "\n",
    "config = FlaubertConfig.from_pretrained(model_name, num_labels=num_labels)\n",
    "\n",
    "with strategy.scope():\n",
    "    model = TFFlaubertForTokenClassification.from_pretrained(MODEL_PATH, config=config)\n",
    "    tokenizer = FlaubertTokenizer.from_pretrained(model_name)"
   ]
  },
  {
   "cell_type": "code",
   "execution_count": 10,
   "metadata": {},
   "outputs": [],
   "source": [
    "train_dataset, num_train_examples = load_and_cache_examples(tokenizer, labels, pad_token_label_id, mode=\"train\")\n",
    "train_dataset = strategy.experimental_distribute_dataset(train_dataset)"
   ]
  },
  {
   "cell_type": "code",
   "execution_count": 11,
   "metadata": {},
   "outputs": [],
   "source": [
    "train(strategy, train_dataset, tokenizer, model, num_train_examples, labels, pad_token_label_id)\n",
    "\n",
    "if not os.path.exists(MODEL_PATH):\n",
    "    os.makedirs(MODEL_PATH)\n",
    "\n",
    "print(\"Saving model to\", MODEL_PATH)\n",
    "\n",
    "model.save_pretrained(MODEL_PATH)\n",
    "\n",
    "del train_dataset, num_train_examples"
   ]
  },
  {
   "cell_type": "markdown",
   "metadata": {},
   "source": [
    "# Evaluation"
   ]
  },
  {
   "cell_type": "code",
   "execution_count": 12,
   "metadata": {},
   "outputs": [],
   "source": [
    "def evaluate(strategy, model, tokenizer, labels, pad_token_label_id, mode):\n",
    "    eval_dataset, size = load_and_cache_examples(tokenizer, labels, pad_token_label_id, mode=mode)\n",
    "    eval_dataset = strategy.experimental_distribute_dataset(eval_dataset)\n",
    "    preds = None\n",
    "    \n",
    "    input_ids = []\n",
    "    \n",
    "    loss_fct = tf.keras.losses.SparseCategoricalCrossentropy(reduction=tf.keras.losses.Reduction.NONE)\n",
    "    loss = 0.0\n",
    "\n",
    "    idx = 0\n",
    "    for eval_features, eval_labels in eval_dataset:\n",
    "        idx += 1\n",
    "        if idx > 200:\n",
    "            break\n",
    "        inputs = {\n",
    "            \"attention_mask\": eval_features[\"input_mask\"],\n",
    "            \"token_type_ids\": eval_features[\"segment_ids\"],\n",
    "            \"training\": False\n",
    "        }\n",
    "\n",
    "        with strategy.scope():\n",
    "            logits = model(eval_features[\"input_ids\"], **inputs)[0]\n",
    "            active_loss = tf.reshape(eval_labels, (-1,)) != pad_token_label_id\n",
    "            active_logits = tf.boolean_mask(tf.reshape(logits, (-1, len(labels))), active_loss)\n",
    "            active_labels = tf.boolean_mask(tf.reshape(eval_labels, (-1,)), active_loss)\n",
    "            cross_entropy = loss_fct(active_labels, active_logits)\n",
    "            loss += tf.reduce_sum(cross_entropy) * (1.0 / batch_size)\n",
    "\n",
    "        input_ids.append(eval_features[\"input_ids\"])\n",
    "        if preds is None:\n",
    "            preds = logits.numpy()\n",
    "            label_ids = eval_labels.numpy()\n",
    "        else:\n",
    "            preds = np.append(preds, logits.numpy(), axis=0)\n",
    "            label_ids = np.append(label_ids, eval_labels.numpy(), axis=0)\n",
    "\n",
    "    preds = np.argmax(preds, axis=2)\n",
    "    y_pred = [[] for _ in range(label_ids.shape[0])]\n",
    "    y_true = [[] for _ in range(label_ids.shape[0])]\n",
    "\n",
    "    for i in range(label_ids.shape[0]):\n",
    "        for j in range(label_ids.shape[1]):\n",
    "            if label_ids[i, j] != pad_token_label_id:\n",
    "                #y_pred[i].append(labels[preds[i, j]])\n",
    "                #y_true[i].append(labels[label_ids[i, j] ])\n",
    "                y_pred[i].append(preds[i, j])\n",
    "                y_true[i].append(label_ids[i, j])\n",
    "\n",
    "                \n",
    "    return y_true, y_pred, loss.numpy(), input_ids"
   ]
  },
  {
   "cell_type": "code",
   "execution_count": 13,
   "metadata": {},
   "outputs": [],
   "source": [
    "y_true, y_pred, eval_loss, input_ids = evaluate(strategy, model, tokenizer, labels, pad_token_label_id, mode=\"dev\")\n",
    "\n",
    "export = open(\"export.csv\", \"w\")\n",
    "export.write(\"sentence; true; pred\\n\")\n",
    "for idx, (true, pred, ids) in enumerate(zip(y_true, y_pred, input_ids)):\n",
    "    if true != pred:\n",
    "        sentence = tokenizer.convert_ids_to_tokens(ids[idx % 64])\n",
    "        sentence = \"\".join([word.replace(\"</w>\", \"\") + \" \" if \"</w>\" in word else word for word in sentence]).replace(\"<pad>\", \"\")\n",
    "        true = \" \".join([str(a) for a in true])\n",
    "        pred = \" \".join([str(a) for a in pred])\n",
    "        export.write(sentence + \"; \" + true + \"; \" + pred + \"\\n\")\n",
    "export.close()"
   ]
  },
  {
   "cell_type": "code",
   "execution_count": 14,
   "metadata": {},
   "outputs": [
    {
     "ename": "IndexError",
     "evalue": "invalid index to scalar variable.",
     "output_type": "error",
     "traceback": [
      "\u001b[0;31m---------------------------------------------------------------------------\u001b[0m",
      "\u001b[0;31mIndexError\u001b[0m                                Traceback (most recent call last)",
      "\u001b[0;32m<ipython-input-14-604fea7bdaee>\u001b[0m in \u001b[0;36m<module>\u001b[0;34m\u001b[0m\n\u001b[0;32m----> 1\u001b[0;31m \u001b[0mreport\u001b[0m \u001b[0;34m=\u001b[0m \u001b[0mmetrics\u001b[0m\u001b[0;34m.\u001b[0m\u001b[0mclassification_report\u001b[0m\u001b[0;34m(\u001b[0m\u001b[0my_true\u001b[0m\u001b[0;34m,\u001b[0m \u001b[0my_pred\u001b[0m\u001b[0;34m,\u001b[0m \u001b[0mdigits\u001b[0m\u001b[0;34m=\u001b[0m\u001b[0;36m2\u001b[0m\u001b[0;34m)\u001b[0m\u001b[0;34m\u001b[0m\u001b[0;34m\u001b[0m\u001b[0m\n\u001b[0m\u001b[1;32m      2\u001b[0m \u001b[0;34m\u001b[0m\u001b[0m\n\u001b[1;32m      3\u001b[0m \u001b[0moutput_eval_file\u001b[0m \u001b[0;34m=\u001b[0m \u001b[0mos\u001b[0m\u001b[0;34m.\u001b[0m\u001b[0mpath\u001b[0m\u001b[0;34m.\u001b[0m\u001b[0mjoin\u001b[0m\u001b[0;34m(\u001b[0m\u001b[0mMODEL_PATH\u001b[0m\u001b[0;34m,\u001b[0m \u001b[0;34m\"eval_results.txt\"\u001b[0m\u001b[0;34m)\u001b[0m\u001b[0;34m\u001b[0m\u001b[0;34m\u001b[0m\u001b[0m\n\u001b[1;32m      4\u001b[0m \u001b[0;32mwith\u001b[0m \u001b[0mtf\u001b[0m\u001b[0;34m.\u001b[0m\u001b[0mio\u001b[0m\u001b[0;34m.\u001b[0m\u001b[0mgfile\u001b[0m\u001b[0;34m.\u001b[0m\u001b[0mGFile\u001b[0m\u001b[0;34m(\u001b[0m\u001b[0moutput_eval_file\u001b[0m\u001b[0;34m,\u001b[0m \u001b[0;34m\"w\"\u001b[0m\u001b[0;34m)\u001b[0m \u001b[0;32mas\u001b[0m \u001b[0mwriter\u001b[0m\u001b[0;34m:\u001b[0m\u001b[0;34m\u001b[0m\u001b[0;34m\u001b[0m\u001b[0m\n\u001b[1;32m      5\u001b[0m     \u001b[0;31m# Log loss\u001b[0m\u001b[0;34m\u001b[0m\u001b[0;34m\u001b[0m\u001b[0;34m\u001b[0m\u001b[0m\n",
      "\u001b[0;32m/opt/conda/lib/python3.7/site-packages/seqeval/metrics/sequence_labeling.py\u001b[0m in \u001b[0;36mclassification_report\u001b[0;34m(y_true, y_pred, digits, suffix)\u001b[0m\n\u001b[1;32m    311\u001b[0m         \u001b[0;34m<\u001b[0m\u001b[0mBLANKLINE\u001b[0m\u001b[0;34m>\u001b[0m\u001b[0;34m\u001b[0m\u001b[0;34m\u001b[0m\u001b[0m\n\u001b[1;32m    312\u001b[0m     \"\"\"\n\u001b[0;32m--> 313\u001b[0;31m     \u001b[0mtrue_entities\u001b[0m \u001b[0;34m=\u001b[0m \u001b[0mset\u001b[0m\u001b[0;34m(\u001b[0m\u001b[0mget_entities\u001b[0m\u001b[0;34m(\u001b[0m\u001b[0my_true\u001b[0m\u001b[0;34m,\u001b[0m \u001b[0msuffix\u001b[0m\u001b[0;34m)\u001b[0m\u001b[0;34m)\u001b[0m\u001b[0;34m\u001b[0m\u001b[0;34m\u001b[0m\u001b[0m\n\u001b[0m\u001b[1;32m    314\u001b[0m     \u001b[0mpred_entities\u001b[0m \u001b[0;34m=\u001b[0m \u001b[0mset\u001b[0m\u001b[0;34m(\u001b[0m\u001b[0mget_entities\u001b[0m\u001b[0;34m(\u001b[0m\u001b[0my_pred\u001b[0m\u001b[0;34m,\u001b[0m \u001b[0msuffix\u001b[0m\u001b[0;34m)\u001b[0m\u001b[0;34m)\u001b[0m\u001b[0;34m\u001b[0m\u001b[0;34m\u001b[0m\u001b[0m\n\u001b[1;32m    315\u001b[0m \u001b[0;34m\u001b[0m\u001b[0m\n",
      "\u001b[0;32m/opt/conda/lib/python3.7/site-packages/seqeval/metrics/sequence_labeling.py\u001b[0m in \u001b[0;36mget_entities\u001b[0;34m(seq, suffix)\u001b[0m\n\u001b[1;32m     41\u001b[0m             \u001b[0mtype_\u001b[0m \u001b[0;34m=\u001b[0m \u001b[0mchunk\u001b[0m\u001b[0;34m.\u001b[0m\u001b[0msplit\u001b[0m\u001b[0;34m(\u001b[0m\u001b[0;34m'-'\u001b[0m\u001b[0;34m)\u001b[0m\u001b[0;34m[\u001b[0m\u001b[0;36m0\u001b[0m\u001b[0;34m]\u001b[0m\u001b[0;34m\u001b[0m\u001b[0;34m\u001b[0m\u001b[0m\n\u001b[1;32m     42\u001b[0m         \u001b[0;32melse\u001b[0m\u001b[0;34m:\u001b[0m\u001b[0;34m\u001b[0m\u001b[0;34m\u001b[0m\u001b[0m\n\u001b[0;32m---> 43\u001b[0;31m             \u001b[0mtag\u001b[0m \u001b[0;34m=\u001b[0m \u001b[0mchunk\u001b[0m\u001b[0;34m[\u001b[0m\u001b[0;36m0\u001b[0m\u001b[0;34m]\u001b[0m\u001b[0;34m\u001b[0m\u001b[0;34m\u001b[0m\u001b[0m\n\u001b[0m\u001b[1;32m     44\u001b[0m             \u001b[0mtype_\u001b[0m \u001b[0;34m=\u001b[0m \u001b[0mchunk\u001b[0m\u001b[0;34m.\u001b[0m\u001b[0msplit\u001b[0m\u001b[0;34m(\u001b[0m\u001b[0;34m'-'\u001b[0m\u001b[0;34m)\u001b[0m\u001b[0;34m[\u001b[0m\u001b[0;34m-\u001b[0m\u001b[0;36m1\u001b[0m\u001b[0;34m]\u001b[0m\u001b[0;34m\u001b[0m\u001b[0;34m\u001b[0m\u001b[0m\n\u001b[1;32m     45\u001b[0m \u001b[0;34m\u001b[0m\u001b[0m\n",
      "\u001b[0;31mIndexError\u001b[0m: invalid index to scalar variable."
     ]
    }
   ],
   "source": [
    "report = metrics.classification_report(y_true, y_pred, digits=2)\n",
    "\n",
    "output_eval_file = os.path.join(MODEL_PATH, \"eval_results.txt\")\n",
    "with tf.io.gfile.GFile(output_eval_file, \"w\") as writer:\n",
    "    # Log loss\n",
    "    print(\"final_loss = \" + str(eval_loss))\n",
    "    writer.write(\"final_loss = \" + str(eval_loss))\n",
    "    writer.write(\"\\n\")\n",
    "\n",
    "    # Log metrics\n",
    "    print(\"final_report\")\n",
    "    print(\"\\n\" + report)\n",
    "    writer.write(\"final_report\" + \"\\n\")\n",
    "    writer.write(report)\n",
    "    writer.write(\"\\n\")"
   ]
  },
  {
   "cell_type": "code",
   "execution_count": 15,
   "metadata": {},
   "outputs": [
    {
     "name": "stdout",
     "output_type": "stream",
     "text": [
      "330162\n",
      "330162\n",
      "[[     0      0      0      0     20      0      1      0      0]\n",
      " [     0      0      0      0      0      4      0      0      0]\n",
      " [     0      0      0      0      0      0      3      0      0]\n",
      " [     0      0      0      0      0      0      0      9      0]\n",
      " [     0      0      0      0  15923    181    163     31    820]\n",
      " [     0      0      0      0    124   8162     69     33    215]\n",
      " [     0      0      0      0    171     58   5209      9    102]\n",
      " [     0      0      0      0     31     53     13  10808     68]\n",
      " [     0      0      0      0    460    307    136     67 286912]]\n"
     ]
    }
   ],
   "source": [
    "from sklearn.metrics import confusion_matrix\n",
    "\n",
    "true = [y for x in y_true for y in x]\n",
    "pred = [y for x in y_pred for y in x]\n",
    "print(len(true))\n",
    "print(len(pred))\n",
    "cm = confusion_matrix(true, pred)\n",
    "print(cm)"
   ]
  },
  {
   "cell_type": "code",
   "execution_count": 16,
   "metadata": {},
   "outputs": [],
   "source": [
    "def plot_confusion_matrix(cm, target_names, normalize=True):\n",
    "    plt.figure(figsize=(8, 6))\n",
    "    plt.imshow(cm, interpolation='nearest', cmap=plt.get_cmap('Blues'))\n",
    "    plt.title(\"Confusion matrix\")\n",
    "    plt.colorbar()\n",
    "\n",
    "    if target_names is not None:\n",
    "        tick_marks = np.arange(len(target_names))\n",
    "        plt.xticks(tick_marks, target_names, rotation=45)\n",
    "        plt.yticks(tick_marks, target_names)\n",
    "\n",
    "    if normalize:\n",
    "        cm = cm.astype('float') / cm.sum(axis=1)[:, np.newaxis]\n",
    "\n",
    "    thresh = cm.max() / 1.5 if normalize else cm.max() / 2\n",
    "    for i, j in itertools.product(range(cm.shape[0]), range(cm.shape[1])):\n",
    "        if normalize:\n",
    "            plt.text(j, i, \"{:0.3f}\".format(cm[i, j]),\n",
    "                     horizontalalignment=\"center\",\n",
    "                     color=\"white\" if cm[i, j] > thresh else \"black\")\n",
    "        else:\n",
    "            plt.text(j, i, \"{:,}\".format(cm[i, j]),\n",
    "                     horizontalalignment=\"center\",\n",
    "                     color=\"white\" if cm[i, j] > thresh else \"black\")\n",
    "\n",
    "\n",
    "    plt.tight_layout()\n",
    "    plt.ylabel('True label')\n",
    "    plt.xlabel('Predicted label')\n",
    "    plt.show()"
   ]
  },
  {
   "cell_type": "code",
   "execution_count": 17,
   "metadata": {},
   "outputs": [
    {
     "data": {
      "image/png": "[encoded data removed]",
      "text/plain": [
       "<Figure size 576x432 with 2 Axes>"
      ]
     },
     "metadata": {
      "needs_background": "light"
     },
     "output_type": "display_data"
    }
   ],
   "source": [
    "plot_confusion_matrix(cm, normalize = False, target_names=labels)"
   ]
  }
 ],
 "metadata": {
  "file_extension": ".py",
  "kernelspec": {
   "display_name": "Python 3",
   "language": "python",
   "name": "python3"
  },
  "language_info": {
   "codemirror_mode": {
    "name": "ipython",
    "version": 3
   },
   "file_extension": ".py",
   "mimetype": "text/x-python",
   "name": "python",
   "nbconvert_exporter": "python",
   "pygments_lexer": "ipython3",
   "version": "3.7.7"
  },
  "mimetype": "text/x-python",
  "name": "python",
  "npconvert_exporter": "python",
  "pygments_lexer": "ipython3",
  "version": 3
 },
 "nbformat": 4,
 "nbformat_minor": 4
}
